{
 "metadata": {
  "language_info": {
   "codemirror_mode": {
    "name": "ipython",
    "version": 3
   },
   "file_extension": ".py",
   "mimetype": "text/x-python",
   "name": "python",
   "nbconvert_exporter": "python",
   "pygments_lexer": "ipython3",
   "version": "3.9.1-final"
  },
  "orig_nbformat": 2,
  "kernelspec": {
   "name": "python3",
   "display_name": "Python 3.9.1 64-bit ('venv')",
   "metadata": {
    "interpreter": {
     "hash": "afa451ab6f6f647c616e19c7b353fe245ad0d8c595768452f2b6a43b9b9702a6"
    }
   }
  }
 },
 "nbformat": 4,
 "nbformat_minor": 2,
 "cells": [
  {
   "source": [
    "# Preparation"
   ],
   "cell_type": "markdown",
   "metadata": {}
  },
  {
   "source": [
    "import os\n",
    "import numpy as np\n",
    "import pandas as pd"
   ],
   "cell_type": "code",
   "metadata": {},
   "execution_count": 4,
   "outputs": []
  },
  {
   "cell_type": "code",
   "execution_count": 58,
   "metadata": {},
   "outputs": [],
   "source": [
    "pwd = os.getcwd()\n",
    "dataDem = pd.read_csv(f\"{pwd}/cleanData/CustomerDemographic.csv\")\n",
    "dataAdd = pd.read_csv(f\"{pwd}/cleanData/CustomerAddress.csv\")\n",
    "dataTrn = pd.read_csv(f\"{pwd}/cleanData/Transactions.csv\")\n",
    "dataNew = pd.read_csv(f\"{pwd}/cleanData/NewCustomerList.csv\")"
   ]
  },
  {
   "cell_type": "code",
   "execution_count": 59,
   "metadata": {},
   "outputs": [],
   "source": [
    "dataDem = dataDem.drop([\"first_name\", \"last_name\", \"job_title\", \"deceased_indicator\"], axis=1)\n",
    "dataAdd = dataAdd.drop([\"address\", \"postcode\", \"country\"], axis=1)\n",
    "dataTrn = dataTrn[dataTrn[\"order_status\"] != \"Cancelled\"]\n",
    "dataTrn = dataTrn[[\"customer_id\", \"list_price\", \"standard_cost\"]]"
   ]
  },
  {
   "cell_type": "code",
   "execution_count": null,
   "metadata": {},
   "outputs": [],
   "source": []
  }
 ]
}